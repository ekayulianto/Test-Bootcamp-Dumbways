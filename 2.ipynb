{
 "cells": [
  {
   "cell_type": "code",
   "execution_count": 1,
   "metadata": {},
   "outputs": [
    {
     "name": "stdout",
     "output_type": "stream",
     "text": [
      "Username :ekasdkasfiaf\n",
      "Invalid\n",
      "Email :ekayulianto@gmai\n",
      "ekayulianto@gmai\n",
      "Password :eaks\n",
      "eaks\n"
     ]
    }
   ],
   "source": [
    "import re\n",
    "username = input('Username :');\n",
    "if re.findall(r'[A-Z]', username):\n",
    "    print ('Invalid')\n",
    "elif len(username) >=7:\n",
    "    print('Invalid')\n",
    "else:\n",
    "     print(username)\n",
    "\n",
    "email = input('Email :');\n",
    "if re.findall(r'[A-Z]', email):\n",
    "    print('Invalid')\n",
    "elif re.findall(r'[\\w\\.-]+@[\\w\\.-]+', email):\n",
    "    print (email)\n",
    "else:\n",
    "    print('Invalid')\n",
    "    \n",
    "password = input('Password :');\n",
    "if not re.findall (r'[1-9]',password):\n",
    "    print('Invalid')\n",
    "elif not len(password) >=8:\n",
    "    print('Invalid')\n",
    "elif not re.findall (r'[A-Z]+[a-z]+$', password):\n",
    "    print('Invalid')\n",
    "else:\n",
    "    print(password)"
   ]
  }
 ],
 "metadata": {
  "kernelspec": {
   "display_name": "Python 3",
   "language": "python",
   "name": "python3"
  },
  "language_info": {
   "codemirror_mode": {
    "name": "ipython",
    "version": 3
   },
   "file_extension": ".py",
   "mimetype": "text/x-python",
   "name": "python",
   "nbconvert_exporter": "python",
   "pygments_lexer": "ipython3",
   "version": "3.7.4"
  }
 },
 "nbformat": 4,
 "nbformat_minor": 2
}
