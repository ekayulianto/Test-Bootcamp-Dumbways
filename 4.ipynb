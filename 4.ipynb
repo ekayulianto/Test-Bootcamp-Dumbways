{
 "cells": [
  {
   "cell_type": "code",
   "execution_count": 188,
   "metadata": {},
   "outputs": [],
   "source": [
    "#sort berdasarkan abjad\n",
    "def mylist(n):\n",
    "    for i in range (len(n)):\n",
    "        hasil = sorted(n)\n",
    "    return hasil\n",
    "\n"
   ]
  },
  {
   "cell_type": "code",
   "execution_count": 189,
   "metadata": {},
   "outputs": [
    {
     "data": {
      "text/plain": [
       "['a', 'b', 'g', 'k', 'w', 'z']"
      ]
     },
     "execution_count": 189,
     "metadata": {},
     "output_type": "execute_result"
    }
   ],
   "source": [
    "#n = [['a','k','z'],['b','g'],['w','f','a','m']\n",
    "n = (['a','k','z','b','g','w'])\n",
    "\n",
    "mylist(n)"
   ]
  },
  {
   "cell_type": "code",
   "execution_count": 190,
   "metadata": {},
   "outputs": [
    {
     "name": "stdout",
     "output_type": "stream",
     "text": [
      "[['b', 'g'], ['a', 'k', 'z'], ['w', 'f', 'a', 'm']]\n"
     ]
    }
   ],
   "source": [
    "# sort berdasarkan panjang array\n",
    "def Sorting(lst): \n",
    "    for i in range (len(lst)):\n",
    "        lst2 = sorted(lst, key=len)\n",
    "    return lst2 \n",
    "\n",
    "# Driver code \n",
    "lst = [['a','k','z'],['b','g'],['w','f','a','m']]\n",
    "print(Sorting(lst))"
   ]
  },
  {
   "cell_type": "code",
   "execution_count": null,
   "metadata": {},
   "outputs": [],
   "source": []
  }
 ],
 "metadata": {
  "kernelspec": {
   "display_name": "Python 3",
   "language": "python",
   "name": "python3"
  },
  "language_info": {
   "codemirror_mode": {
    "name": "ipython",
    "version": 3
   },
   "file_extension": ".py",
   "mimetype": "text/x-python",
   "name": "python",
   "nbconvert_exporter": "python",
   "pygments_lexer": "ipython3",
   "version": "3.7.4"
  }
 },
 "nbformat": 4,
 "nbformat_minor": 2
}
