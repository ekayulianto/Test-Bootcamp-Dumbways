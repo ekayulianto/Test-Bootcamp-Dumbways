{
 "cells": [
  {
   "cell_type": "code",
   "execution_count": 136,
   "metadata": {},
   "outputs": [],
   "source": [
    "from itertools import islice\n",
    "\n",
    "def bilanganprima(n):\n",
    "    list_prima = [2]     ## Angka pertama\n",
    " \n",
    "    for number in range(3, n, 2):        ##untuk number dari 3 hingga n \n",
    "        if all(number % i != 0 for i in range(2, int(number ** .5) + 1)):\n",
    "            list_prima.append(number)\n",
    " \n",
    "    return list_prima\n"
   ]
  },
  {
   "cell_type": "code",
   "execution_count": 137,
   "metadata": {},
   "outputs": [],
   "source": [
    "angka = bilanganprima(40)"
   ]
  },
  {
   "cell_type": "code",
   "execution_count": 138,
   "metadata": {},
   "outputs": [
    {
     "name": "stdout",
     "output_type": "stream",
     "text": [
      "[[2, 3, 5, 7], [11, 13, 17, 19], [23, 29, 31, 37]]\n"
     ]
    }
   ],
   "source": [
    "def convert(angka, var_lst): \n",
    "    it = iter(angka) \n",
    "    return [list(islice(it, i)) for i in var_lst] \n",
    "var_lst = [4,4,4]\n",
    "print(convert(angka,var_lst))"
   ]
  }
 ],
 "metadata": {
  "kernelspec": {
   "display_name": "Python 3",
   "language": "python",
   "name": "python3"
  },
  "language_info": {
   "codemirror_mode": {
    "name": "ipython",
    "version": 3
   },
   "file_extension": ".py",
   "mimetype": "text/x-python",
   "name": "python",
   "nbconvert_exporter": "python",
   "pygments_lexer": "ipython3",
   "version": "3.7.4"
  }
 },
 "nbformat": 4,
 "nbformat_minor": 2
}
